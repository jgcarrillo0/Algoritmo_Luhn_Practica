{
 "cells": [
  {
   "cell_type": "markdown",
   "id": "6f2ef757",
   "metadata": {},
   "source": [
    "<p style=\"text-align:center;\">\n",
    "  <img src=\"recursos/imagenes/portada.jpg\" style=\"width: 250px;\" />\n",
    "</p>\n",
    "<h1 style=\"text-align: center; font-size: 50px; color:#0C90D2 ;\">Con Python, cada desafío tiene su solución.</h1>\n",
    "<h3 style=\"text-align: center; font-size: 30px; color:#0C90D2 ;\">Generación de mapas usando Folium</h3>"
   ]
  },
  {
   "cell_type": "markdown",
   "id": "ab56a13b",
   "metadata": {},
   "source": [
    "# Contenido:"
   ]
  },
  {
   "cell_type": "markdown",
   "id": "d8e70dce-eabc-4d3d-9f9a-806a5a0bbf3d",
   "metadata": {},
   "source": [
    "* [Algoritmo de Luhn](#sec1)\n",
    "* [Práctica](#sec2)\n",
    "    - [Importación de librerías](#subsec2)\n",
    "    - [Cargue de la data](#subsec3)\n",
    "    - [Validación de un número de una tarjeta bancaria por medio del algoritmo de Luhn](#subsec4)\n",
    "    - [Generación de un número de una tarjeta bancaria por medio del algoritmo de Luhn](#subsec5)"
   ]
  },
  {
   "cell_type": "markdown",
   "id": "2b8aa14a-e751-4f05-833e-8862a7f918e6",
   "metadata": {},
   "source": [
    "# Aplicación del algoritmo de Luhn para generar y validar números de tarjetas bancarias"
   ]
  },
  {
   "cell_type": "markdown",
   "id": "35923c0e-9493-4f5a-8337-a5579210e585",
   "metadata": {},
   "source": [
    "<a class=\"anchor\" id=\"sec1\"></a>\n",
    "## ¿Qué es el algoritmo de Luhn?"
   ]
  },
  {
   "cell_type": "markdown",
   "id": "cd2928d6-2682-4c44-a7a1-87b2062a4280",
   "metadata": {},
   "source": [
    "El algoritmo de Luhn, o Algoritmo de módulo 10, es un método de verificación diseñado por Hans Peter Luhn en 1954 y patentado en 1960, utilizado para validar números de identificación como tarjetas de crédito y números IMEI. Su propósito es detectar errores accidentales en la digitación o transmisión de datos, más que proporcionar seguridad criptográfica. De dominio público y especificado en la norma ISO/IEC 7812-1, es ampliamente utilizado para distinguir números válidos de combinaciones aleatorias en sistemas de identificación, siendo una herramienta fundamental en la validación de datos numéricos.\n",
    "\n",
    "Pasos del algoritmo:\n",
    "\n",
    "1. Quita el dígito de control del número (si ya está presente). Esto deja la carga útil\n",
    "2. Comience con los dígitos de la carga útil. Moviéndote de derecha a izquierda, duplica cada segundo dígito, empezando por el último dígito. Si duplicar un dígito da como resultado un valor > 9, reste 9 (o sume sus dígitos)\n",
    "3. Suma todos los dígitos resultantes (incluidos los que no se duplicaron)\n",
    "4. El dígito de control se calcula de la siguiente manera: $(10 - (s mod 10))mod 10$, donde s es la suma del paso 3. Este es el número más pequeño (posiblemente cero) al que se debe sumar $s$\n",
    "para hacer un múltiplo de 10\n",
    "\n",
    "Referencia: [Algoritmo de Luhn](https://en.wikipedia.org/wiki/Luhn_algorithm)"
   ]
  },
  {
   "cell_type": "markdown",
   "id": "990c00d7-1bc6-4c16-a7ed-7e3800821312",
   "metadata": {},
   "source": [
    "**Posdata**: \n",
    "\n",
    "El BIN (Bank Identification Number) es el conjunto de los primeros 6 a 8 dígitos de una tarjeta bancaria, que identifica la entidad emisora, el tipo de tarjeta y la red de pago (Visa, Mastercard, etc.). Se utiliza para procesar transacciones y detectar fraudes."
   ]
  },
  {
   "cell_type": "markdown",
   "id": "caa80754-a182-4c7d-b4cf-2c26bd6071ac",
   "metadata": {},
   "source": [
    "<a class=\"anchor\" id=\"sec2\"></a>\n",
    "## Práctica"
   ]
  },
  {
   "cell_type": "markdown",
   "id": "1cfa1253-9a6d-43d6-9dd4-ef63062c9823",
   "metadata": {},
   "source": [
    "El objetivo de la práctica es implementar el algoritmo de Luhn mediante funciones que permitan generar números de tarjetas bancarias aleatorios o validar un número existente. Esto se logrará aplicando la lógica del algoritmo para calcular el dígito de control y verificar la autenticidad de los números ingresados, garantizando su conformidad con el estándar utilizado en sistemas de identificación bancaria."
   ]
  },
  {
   "cell_type": "markdown",
   "id": "79416b4e-1e0b-4006-81ac-7146d04fb11e",
   "metadata": {},
   "source": [
    "<a class=\"anchor\" id=\"subsec1\"></a>\n",
    "### Requsitos"
   ]
  },
  {
   "cell_type": "markdown",
   "id": "88319482-d43b-4efa-9489-97c60672a710",
   "metadata": {},
   "source": [
    "Antes de iniciar se deben tener en cuenta las siguientes recomendaciones:\n",
    "\n",
    "* Opcional:\n",
    "    * Tener python 3, preferible >=3.8\n",
    "    * Crear un entorno virtual\n",
    "* Obligatorio:\n",
    "    * instalar pandas:\n",
    "        * Con conda:\n",
    "          ```python\n",
    "          conda install -c conda-forge pandas\n",
    "          ```      \n",
    "        * Con pip:\n",
    "          ```python\n",
    "          pip install pandas\n",
    "          ```"
   ]
  },
  {
   "cell_type": "markdown",
   "id": "042d1fc3",
   "metadata": {},
   "source": [
    "<a class=\"anchor\" id=\"subsec2\"></a>\n",
    "### Importación de librerías"
   ]
  },
  {
   "cell_type": "code",
   "execution_count": 1,
   "id": "54b2d2d9",
   "metadata": {},
   "outputs": [],
   "source": [
    "# Importamos librerias\n",
    "import random\n",
    "import pandas as pd"
   ]
  },
  {
   "cell_type": "markdown",
   "id": "1f63d95c-3211-41cc-8a59-52074faf1d4f",
   "metadata": {},
   "source": [
    "<a class=\"anchor\" id=\"subsec3\"></a>\n",
    "### Cargue de la data"
   ]
  },
  {
   "cell_type": "markdown",
   "id": "d472856f-d34a-4dda-8e55-2177a45fa665",
   "metadata": {},
   "source": [
    "Para enriquecer nuestra práctica, utilizaremos un archivo CSV que contiene los números BIN de tarjetas bancarias en Colombia. Esto nos permitirá no solo validar los números de tarjeta mediante el algoritmo de Luhn, sino también identificar sus características, como la entidad emisora, el tipo de tarjeta y la red de pago asociada."
   ]
  },
  {
   "cell_type": "code",
   "execution_count": 2,
   "id": "fe32620a-aaee-4218-bbae-bcd0e6470d25",
   "metadata": {},
   "outputs": [
    {
     "data": {
      "text/html": [
       "<div>\n",
       "<style scoped>\n",
       "    .dataframe tbody tr th:only-of-type {\n",
       "        vertical-align: middle;\n",
       "    }\n",
       "\n",
       "    .dataframe tbody tr th {\n",
       "        vertical-align: top;\n",
       "    }\n",
       "\n",
       "    .dataframe thead th {\n",
       "        text-align: right;\n",
       "    }\n",
       "</style>\n",
       "<table border=\"1\" class=\"dataframe\">\n",
       "  <thead>\n",
       "    <tr style=\"text-align: right;\">\n",
       "      <th></th>\n",
       "      <th>BIN</th>\n",
       "      <th>CARD TYPE</th>\n",
       "      <th>CARD LEVEL</th>\n",
       "      <th>ISSUER</th>\n",
       "    </tr>\n",
       "  </thead>\n",
       "  <tbody>\n",
       "    <tr>\n",
       "      <th>0</th>\n",
       "      <td>360324</td>\n",
       "      <td>CREDIT</td>\n",
       "      <td>STANDARD</td>\n",
       "      <td>DCI</td>\n",
       "    </tr>\n",
       "    <tr>\n",
       "      <th>1</th>\n",
       "      <td>370110</td>\n",
       "      <td>CREDIT</td>\n",
       "      <td>AMERICAN EXPRESS</td>\n",
       "      <td>AMEX</td>\n",
       "    </tr>\n",
       "    <tr>\n",
       "      <th>2</th>\n",
       "      <td>377813</td>\n",
       "      <td>CREDIT</td>\n",
       "      <td>STANDARD</td>\n",
       "      <td>AMEX</td>\n",
       "    </tr>\n",
       "    <tr>\n",
       "      <th>3</th>\n",
       "      <td>401085</td>\n",
       "      <td>CREDIT</td>\n",
       "      <td>VISA</td>\n",
       "      <td>VISA</td>\n",
       "    </tr>\n",
       "    <tr>\n",
       "      <th>4</th>\n",
       "      <td>401088</td>\n",
       "      <td>CREDIT</td>\n",
       "      <td>VISA PLATINUM</td>\n",
       "      <td>VISA</td>\n",
       "    </tr>\n",
       "  </tbody>\n",
       "</table>\n",
       "</div>"
      ],
      "text/plain": [
       "      BIN CARD TYPE        CARD LEVEL ISSUER\n",
       "0  360324    CREDIT          STANDARD    DCI\n",
       "1  370110    CREDIT  AMERICAN EXPRESS   AMEX\n",
       "2  377813    CREDIT          STANDARD   AMEX\n",
       "3  401085    CREDIT              VISA   VISA\n",
       "4  401088    CREDIT     VISA PLATINUM   VISA"
      ]
     },
     "execution_count": 2,
     "metadata": {},
     "output_type": "execute_result"
    }
   ],
   "source": [
    "# Cargamos los datos\n",
    "data_bin = pd.read_csv(\"recursos/data/Bin_Card.csv\",\n",
    "                 sep=';')\n",
    "data_bin.head()"
   ]
  },
  {
   "cell_type": "markdown",
   "id": "a49ab86f",
   "metadata": {},
   "source": [
    "<a class=\"anchor\" id=\"subsec4\"></a>\n",
    "### Validación de un número de una tarjeta bancaria por medio del algoritmo de Luhn"
   ]
  },
  {
   "cell_type": "markdown",
   "id": "da275fb8-0b8e-4efc-87be-fc1f8ea87a4b",
   "metadata": {},
   "source": [
    "Para iniciar nuestro ejercicio, lo primero que haremos será crear una función que permita ingresar el número de la tarjeta a través del teclado y validar que cumpla con ciertas condiciones básicas. Específicamente, verificaremos que la tarjeta tenga una longitud exacta de 16 dígitos y que contenga únicamente valores numéricos, asegurando así que la entrada sea válida antes de continuar con el procesamiento."
   ]
  },
  {
   "cell_type": "code",
   "execution_count": 3,
   "id": "7fb0dddb-6986-43c4-9118-118ed10d08c0",
   "metadata": {},
   "outputs": [],
   "source": [
    "def ingrese_numero():\n",
    "    '''\n",
    "    Permite ingresar por teclado el número de la tarjeta bancaria.\n",
    "\n",
    "    Returns\n",
    "    -------\n",
    "    numero_tarjeta : str\n",
    "        Número ingresado por el usuario.\n",
    "    '''\n",
    "    while True:\n",
    "        try:\n",
    "            numero_tarjeta = input(\"Ingrese el número de la tarjeta a validar. Debe contener 16 cifras:\")\n",
    "            # Realiza las validaciones\n",
    "            assert  numero_tarjeta.isdigit(), \"El valor ingresado solo debe contener números.\"\n",
    "            assert len(numero_tarjeta) == 16, \"El número ingresado debe tener 16 cifras.\"\n",
    "            if numero_tarjeta:\n",
    "                break\n",
    "        except AssertionError as e:\n",
    "            print(f\"Error: {e}\\n\")\n",
    "    return numero_tarjeta"
   ]
  },
  {
   "cell_type": "markdown",
   "id": "fbbd6232-b98c-44c9-b2c2-58ee14b77142",
   "metadata": {},
   "source": [
    "Implementaremos una segunda función para validar la información de la tarjeta utilizando el número BIN (Bank Identification Number). Este número, compuesto por los primeros dígitos de la tarjeta, nos permitirá identificar la entidad emisora y conocer ciertas características asociadas, asegurando una verificación más precisa y detallada."
   ]
  },
  {
   "cell_type": "code",
   "execution_count": 4,
   "id": "b3c75992-2760-4375-b9f1-ca0e9a6d95e6",
   "metadata": {},
   "outputs": [],
   "source": [
    "def validacion_bin(numero: str, data_bin):\n",
    "    '''\n",
    "    Realiza la validación del código BIN del número de tarjeta ingresaso.\n",
    "\n",
    "    Parameters\n",
    "    ----------\n",
    "    numero : str\n",
    "        Número de tarjeta a validar.\n",
    "    data_bin : pandas dataframe\n",
    "        Dataframe con los datos de los códigos BIN.\n",
    "\n",
    "    Returns\n",
    "    -------\n",
    "    None.\n",
    "    '''\n",
    "    try:\n",
    "        # Obtiene los primeros 6 numeros de la tarjeta\n",
    "        bin = numero[:6]\n",
    "        # Obtiene la informacion de la tarjeta\n",
    "        data_validación = data_bin[data_bin[\"BIN\"] == int(bin)]\n",
    "        print(f\"Tipo de tarjeta: {data_validación.iloc[0, 1]}\")\n",
    "        print(f\"Nivel de tarjeta: {data_validación.iloc[0, 2]}\")\n",
    "        print(f\"Proveedor: {data_validación.iloc[0, 3]}\")\n",
    "    except IndexError:\n",
    "            print(f\"Sin información\") "
   ]
  },
  {
   "cell_type": "markdown",
   "id": "1d74be58-304a-4ed9-b889-0d461c9542c3",
   "metadata": {},
   "source": [
    "Una vez desarrolladas las funciones anteriores, crearemos una tercera función que implemente el algoritmo de Luhn, el cual nos permitirá verificar la autenticidad de la tarjeta. Este algoritmo de suma de verificación detecta errores en la entrada y valida si el número de tarjeta ingresado es potencialmente válido según el estándar utilizado por las entidades financieras."
   ]
  },
  {
   "cell_type": "code",
   "execution_count": 5,
   "id": "bcd56e22-14a7-45f4-b5d2-48b33303d624",
   "metadata": {},
   "outputs": [],
   "source": [
    "def val_num_tar(data_bin):\n",
    "    '''\n",
    "    Realiza la validación del número de tarjeta bancaria aplicando el algoritmo\n",
    "    de Luhn.\n",
    "\n",
    "    Parameters\n",
    "    ----------\n",
    "    data_bin : pandas dataframe\n",
    "        Dataframe con los datos de los códigos BIN.\n",
    "\n",
    "    Returns\n",
    "    -------\n",
    "    None.\n",
    "    '''\n",
    "    # Obtiene el numero de atrjeta\n",
    "    numero_tarjeta = ingrese_numero()\n",
    "    try:\n",
    "        # Convierte el numero a lista\n",
    "        numero = [int(d) for d in numero_tarjeta.strip()]\n",
    "        # Toma el digito de verificacon\n",
    "        digito_ver = numero.pop()\n",
    "        # Invierte el numero de la tarjeta\n",
    "        num_tarj_inv = numero[::-1]\n",
    "        # Posiciones pares son multiplicadas por dos\n",
    "        for i in range(0, 15, 2):\n",
    "            num_tarj_inv[i] *= 2\n",
    "            if num_tarj_inv[i] > 9:\n",
    "                num_tarj_inv[i] -= 9\n",
    "        # Suma los digitos de la tarjeta\n",
    "        suma_dig = sum(num_tarj_inv)\n",
    "        # Calcula el digito de verificacion\n",
    "        digito_ver_cal = (10-(suma_dig % 10)) % 10\n",
    "        # Realiza la validación\n",
    "        if digito_ver == digito_ver_cal:\n",
    "            print(\"Tarjeta: Valida\")\n",
    "            # Valida el numero BIN\n",
    "            validacion_bin(numero_tarjeta, data_bin)\n",
    "        else:\n",
    "            print(\"Tarjeta: No valida\")\n",
    "    except Exception as e:\n",
    "        print(\"Error: Se ha presentado un error a validar el número de tarjeta\")\n",
    "        print(e)"
   ]
  },
  {
   "cell_type": "code",
   "execution_count": 6,
   "id": "578c9c2d-e816-45ca-8fdb-28efa3d5d644",
   "metadata": {},
   "outputs": [
    {
     "name": "stdin",
     "output_type": "stream",
     "text": [
      "Ingrese el número de la tarjeta a validar. Debe contener 16 cifras: 5270766733496499\n"
     ]
    },
    {
     "name": "stdout",
     "output_type": "stream",
     "text": [
      "Tarjeta: Valida\n",
      "Tipo de tarjeta: CREDIT\n",
      "Nivel de tarjeta: CIRRUS\n",
      "Proveedor: MASTERCARD\n"
     ]
    }
   ],
   "source": [
    "# comprobacion\n",
    "val_num_tar(data_bin)"
   ]
  },
  {
   "cell_type": "markdown",
   "id": "6ad39954-81a6-4c5f-827f-1dd6f5faf6a4",
   "metadata": {},
   "source": [
    "<a class=\"anchor\" id=\"subsec5\"></a>\n",
    "### Generación de un número de una tarjeta bancaria por medio del algoritmo de Luhn"
   ]
  },
  {
   "cell_type": "markdown",
   "id": "36caf5a8-fd39-43a2-aa65-af3a95bb5f68",
   "metadata": {},
   "source": [
    "<div class=\"alert alert-warning\">\n",
    "  <strong>Warning!</strong> Atención: Los números generados por esta función son estructuralmente válidos según el algoritmo de Luhn; sin embargo, esto no significa que sean reconocidos o aceptados por las entidades financieras, ya que no están asociados a cuentas reales.\n",
    "</div>"
   ]
  },
  {
   "cell_type": "markdown",
   "id": "c7520df5-5ecc-426d-8a0b-357fd6ff3071",
   "metadata": {},
   "source": [
    "Ahora desarrollaremos un generador de números de tarjetas bancarias que aplicará el algoritmo de Luhn en sentido inverso. Este proceso nos permitirá generar secuencias numéricas que cumplan con las reglas de validación utilizadas por las entidades financieras, asegurando que los números generados sean estructuralmente correctos."
   ]
  },
  {
   "cell_type": "markdown",
   "id": "f0291827-696a-41f8-9ea3-a37515542f1a",
   "metadata": {},
   "source": [
    "La función que implementaremos seleccionará aleatoriamente un número BIN de nuestro dataset y generará el resto de los dígitos necesarios para completar el número de la tarjeta, asegurando que cumpla con el algoritmo de Luhn y sea estructuralmente válido."
   ]
  },
  {
   "cell_type": "code",
   "execution_count": 7,
   "id": "ca771838-8a19-414c-aafc-a24309523c12",
   "metadata": {},
   "outputs": [],
   "source": [
    "def gen_num_tar(data_bin):\n",
    "    '''\n",
    "    Genera números aleatorios validos de tarjetas bancarias.\n",
    "\n",
    "    Parameters\n",
    "    ----------\n",
    "    data_bin : pandas dataframe\n",
    "        Dataframe con los datos de los códigos BIN.\n",
    "\n",
    "    Returns\n",
    "    -------\n",
    "    num_tarj_str : str\n",
    "        Número de tarjetas bancaria generado con el algoritmo de Luhn.\n",
    "    '''\n",
    "    try:\n",
    "        # Selecciona un valor aleatorio\n",
    "        bin_aleatorio = str(data_bin['BIN'].sample(n=1).iloc[0])\n",
    "        # Convierte el bin_aleatorio a lista\n",
    "        bin = [int(d) for d in bin_aleatorio.strip()]\n",
    "        # Posiciones pares son multiplicadas por dos\n",
    "        for i in range(0, 6, 2):\n",
    "            bin[i] *= 2\n",
    "            if bin[i] > 9:\n",
    "                bin[i] -= 9\n",
    "        # Invierte el bin\n",
    "        bin_inv = bin[::-1]\n",
    "        # Genera 9 numeros aleatorios\n",
    "        num_restantes = [random.choice(range(0, 10)) for i in range(0, 9)]\n",
    "        # Une las dos listas\n",
    "        num_tarj_inv = num_restantes + bin_inv\n",
    "        # Suma los 15 digitos\n",
    "        suma_dig = sum(num_tarj_inv)\n",
    "        # Calcula el digito de verificacion\n",
    "        digito_ver = (10-(suma_dig % 10)) % 10\n",
    "        # Retorna los numeros originales de la tarjeta\n",
    "        for i in range(0, 15, 2):\n",
    "            if num_tarj_inv[i] % 2 == 0:\n",
    "                num_tarj_inv[i] = int(num_tarj_inv[i] / 2)\n",
    "            else:\n",
    "                num_tarj_inv[i] = int((num_tarj_inv[i] + 9) / 2)\n",
    "        # Gira el numero de la tarjeta a la posicion original\n",
    "        num_tarj = num_tarj_inv[::-1]\n",
    "        # Agrega el numero de verificación\n",
    "        num_tarj.append(digito_ver)\n",
    "        # convierte la lista en string\n",
    "        num_tarj_str = ''.join(map(str, num_tarj))\n",
    "        return num_tarj_str\n",
    "    except Exception as e:\n",
    "        print(\"Error: Se ha presentado un error a validar el número de tarjeta\")\n",
    "        print(e)"
   ]
  },
  {
   "cell_type": "markdown",
   "id": "585cb7c9-33bb-44f9-ad18-f10bbbc4b50f",
   "metadata": {},
   "source": [
    "Ahora podemos generar números de tarjetas estructuralmente válidos y verificar su autenticidad utilizando la función `val_num_tar`. Esto nos permitirá evaluar si los números generados cumplen con las reglas del algoritmo de Luhn."
   ]
  },
  {
   "cell_type": "code",
   "execution_count": 8,
   "id": "b10109fc-0398-4304-9d27-d192b002bd8d",
   "metadata": {},
   "outputs": [
    {
     "data": {
      "text/plain": [
       "'4038993468562321'"
      ]
     },
     "execution_count": 8,
     "metadata": {},
     "output_type": "execute_result"
    }
   ],
   "source": [
    "# Genera un numero aleatorio\n",
    "numero_aleatorio = gen_num_tar(data_bin)\n",
    "numero_aleatorio"
   ]
  },
  {
   "cell_type": "code",
   "execution_count": 9,
   "id": "3b7c0765-96cb-4e64-82b4-feb53e1f3d02",
   "metadata": {},
   "outputs": [
    {
     "name": "stdin",
     "output_type": "stream",
     "text": [
      "Ingrese el número de la tarjeta a validar. Debe contener 16 cifras: 4038993468562321\n"
     ]
    },
    {
     "name": "stdout",
     "output_type": "stream",
     "text": [
      "Tarjeta: Valida\n",
      "Tipo de tarjeta: DEBIT\n",
      "Nivel de tarjeta: ELECTRON\n",
      "Proveedor: VISA\n"
     ]
    }
   ],
   "source": [
    "# comprobacion\n",
    "val_num_tar(data_bin)"
   ]
  }
 ],
 "metadata": {
  "kernelspec": {
   "display_name": "Mapas",
   "language": "python",
   "name": "mapas"
  },
  "language_info": {
   "codemirror_mode": {
    "name": "ipython",
    "version": 3
   },
   "file_extension": ".py",
   "mimetype": "text/x-python",
   "name": "python",
   "nbconvert_exporter": "python",
   "pygments_lexer": "ipython3",
   "version": "3.8.12"
  },
  "widgets": {
   "application/vnd.jupyter.widget-state+json": {
    "state": {},
    "version_major": 2,
    "version_minor": 0
   }
  }
 },
 "nbformat": 4,
 "nbformat_minor": 5
}
